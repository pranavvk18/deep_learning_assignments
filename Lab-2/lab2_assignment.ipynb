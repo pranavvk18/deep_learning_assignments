{
 "cells": [
  {
   "cell_type": "code",
   "execution_count": 9,
   "metadata": {},
   "outputs": [],
   "source": [
    "import h5py\n",
    "import numpy as np"
   ]
  },
  {
   "cell_type": "code",
   "execution_count": 10,
   "metadata": {},
   "outputs": [],
   "source": [
    "# Load the data\n",
    "train_dataset = h5py.File('Te.h5', \"r\")\n",
    "test_dataset = h5py.File('Tr.h5', \"r\")"
   ]
  },
  {
   "cell_type": "code",
   "execution_count": 11,
   "metadata": {},
   "outputs": [
    {
     "name": "stdout",
     "output_type": "stream",
     "text": [
      "Keys in train_dataset: ['images', 'labels']\n",
      "Keys in test_dataset: ['images', 'labels']\n"
     ]
    }
   ],
   "source": [
    "# Print the keys in the datasets\n",
    "print(\"Keys in train_dataset:\", list(train_dataset.keys()))\n",
    "print(\"Keys in test_dataset:\", list(test_dataset.keys()))"
   ]
  },
  {
   "cell_type": "code",
   "execution_count": 12,
   "metadata": {},
   "outputs": [],
   "source": [
    "# Based on the output, use the correct keys to access the data\n",
    "# For example, if the keys are 'X' and 'Y':\n",
    "train_x = np.array(train_dataset[\"images\"][:])  # train set features\n",
    "train_y = np.array(train_dataset[\"labels\"][:])  # train set labels\n",
    "test_x = np.array(test_dataset[\"images\"][:])  # test set features\n",
    "test_y = np.array(test_dataset[\"labels\"][:])  # test set labels"
   ]
  },
  {
   "cell_type": "code",
   "execution_count": 13,
   "metadata": {},
   "outputs": [],
   "source": [
    "# Flatten the images to be compatible with the softmax regression model\n",
    "train_x_flatten = train_x.reshape(train_x.shape[0], -1).T\n",
    "test_x_flatten = test_x.reshape(test_x.shape[0], -1).T"
   ]
  },
  {
   "cell_type": "code",
   "execution_count": 14,
   "metadata": {},
   "outputs": [],
   "source": [
    "# Standardize the data\n",
    "train_x = train_x_flatten / 255.\n",
    "test_x = test_x_flatten / 255.\n"
   ]
  },
  {
   "cell_type": "code",
   "execution_count": 15,
   "metadata": {},
   "outputs": [],
   "source": [
    "# Define functions for softmax regression model\n",
    "def initialize_parameters(n_x, n_y):\n",
    "    W = np.zeros((n_y, n_x))\n",
    "    b = np.zeros((n_y, 1))\n",
    "    return W, b\n",
    "\n",
    "def forward_propagation(X, W, b):\n",
    "    Z = np.dot(W, X) + b\n",
    "    A = np.exp(Z) / np.sum(np.exp(Z), axis=0, keepdims=True)\n",
    "    return A\n",
    "\n",
    "def compute_cost(A, Y):\n",
    "    m = Y.shape[1]\n",
    "    cost = -1/m * np.sum(Y * np.log(A + 1e-8))\n",
    "    return cost\n",
    "\n",
    "def backward_propagation(X, A, Y):\n",
    "    m = Y.shape[1]\n",
    "    dZ = A - Y\n",
    "    dW = 1/m * np.dot(dZ, X.T)\n",
    "    db = 1/m * np.sum(dZ, axis=1, keepdims=True)\n",
    "    return dW, db\n",
    "\n",
    "def gradient_descent(X, Y, learning_rate, num_iterations):\n",
    "    n_x, m = X.shape\n",
    "    n_y = Y.shape[0]\n",
    "    \n",
    "    W, b = initialize_parameters(n_x, n_y)\n",
    "    costs = []\n",
    "    \n",
    "    for i in range(num_iterations):\n",
    "        A = forward_propagation(X, W, b)\n",
    "        cost = compute_cost(A, Y)\n",
    "        dW, db = backward_propagation(X, A, Y)\n",
    "        \n",
    "        W -= learning_rate * dW\n",
    "        b -= learning_rate * db\n",
    "        \n",
    "        if i % 100 == 0:\n",
    "            costs.append(cost)\n",
    "            print(f\"Cost after iteration {i}: {cost}\")\n",
    "    \n",
    "    return W, b, costs\n",
    "\n",
    "def predict(X, W, b):\n",
    "    A = forward_propagation(X, W, b)\n",
    "    return np.argmax(A, axis=0)\n"
   ]
  },
  {
   "cell_type": "code",
   "execution_count": 16,
   "metadata": {},
   "outputs": [
    {
     "name": "stdout",
     "output_type": "stream",
     "text": [
      "train_x shape: (49152, 50)\n",
      "train_y shape: (50,)\n",
      "test_x shape: (49152, 250)\n",
      "test_y shape: (250,)\n"
     ]
    }
   ],
   "source": [
    "print(f\"train_x shape: {train_x.shape}\")\n",
    "print(f\"train_y shape: {train_y.shape}\")\n",
    "print(f\"test_x shape: {test_x.shape}\")\n",
    "print(f\"test_y shape: {test_y.shape}\")"
   ]
  },
  {
   "cell_type": "code",
   "execution_count": 18,
   "metadata": {},
   "outputs": [],
   "source": [
    "# Ensure train_y and test_y are in the correct format\n",
    "train_y = train_y.astype(int)  # Ensure they are integer types\n",
    "test_y = test_y.astype(int)\n"
   ]
  },
  {
   "cell_type": "code",
   "execution_count": 19,
   "metadata": {},
   "outputs": [],
   "source": [
    "# One-hot encode the labels if needed\n",
    "num_classes = np.max(train_y) + 1\n",
    "train_y = np.eye(num_classes)[train_y.reshape(-1)].T\n",
    "test_y = np.eye(num_classes)[test_y.reshape(-1)].T"
   ]
  },
  {
   "cell_type": "code",
   "execution_count": 20,
   "metadata": {},
   "outputs": [
    {
     "name": "stdout",
     "output_type": "stream",
     "text": [
      "Cost after iteration 0: 2.1687953817828083\n",
      "Cost after iteration 100: 0.005859852759877868\n",
      "Cost after iteration 200: 0.0033383529047843396\n",
      "Cost after iteration 300: 0.0024912162893205004\n",
      "Cost after iteration 400: 0.002039739268333373\n",
      "Cost after iteration 500: 0.0017493946082750675\n",
      "Cost after iteration 600: 0.0015430245680168931\n",
      "Cost after iteration 700: 0.0013869413125546098\n",
      "Cost after iteration 800: 0.0012637652294923603\n",
      "Cost after iteration 900: 0.0011634962578723318\n",
      "Cost after iteration 1000: 0.0010799200566547257\n",
      "Cost after iteration 1100: 0.0010089463627457342\n",
      "Cost after iteration 1200: 0.0009477596331203263\n",
      "Cost after iteration 1300: 0.0008943506579583008\n",
      "Cost after iteration 1400: 0.000847242416440961\n",
      "Cost after iteration 1500: 0.0008053217075980915\n",
      "Cost after iteration 1600: 0.0007677315357771292\n",
      "Cost after iteration 1700: 0.0007337999694883639\n",
      "Cost after iteration 1800: 0.0007029917305354683\n",
      "Cost after iteration 1900: 0.0006748744109727616\n"
     ]
    }
   ],
   "source": [
    "# Train the model\n",
    "learning_rate = 0.01\n",
    "num_iterations = 2000\n",
    "W, b, costs = gradient_descent(train_x, train_y, learning_rate, num_iterations)"
   ]
  },
  {
   "cell_type": "code",
   "execution_count": 21,
   "metadata": {},
   "outputs": [],
   "source": [
    "# Make predictions on the test set\n",
    "predictions = predict(test_x, W, b)\n",
    "test_y_labels = np.argmax(test_y, axis=0)"
   ]
  },
  {
   "cell_type": "code",
   "execution_count": 22,
   "metadata": {},
   "outputs": [
    {
     "name": "stdout",
     "output_type": "stream",
     "text": [
      "Test accuracy: 33.20%\n"
     ]
    }
   ],
   "source": [
    "# Calculate accuracy\n",
    "accuracy = np.mean(predictions == test_y_labels)\n",
    "print(f\"Test accuracy: {accuracy * 100:.2f}%\")"
   ]
  },
  {
   "cell_type": "code",
   "execution_count": 33,
   "metadata": {},
   "outputs": [
    {
     "name": "stdout",
     "output_type": "stream",
     "text": [
      "Predicted label: 3\n",
      "Actual label: 3\n"
     ]
    }
   ],
   "source": [
    "import random\n",
    "import numpy as np\n",
    "\n",
    "# Select a random image from the test set\n",
    "random_index = random.randint(0, test_x.shape[1] - 1)\n",
    "random_image = test_x[:, random_index].reshape(-1, 1)\n",
    "\n",
    "# Make a prediction on the random image\n",
    "predicted_label = predict(random_image, W, b)\n",
    "\n",
    "# Get the actual label\n",
    "actual_label = np.argmax(test_y[:, random_index])\n",
    "\n",
    "# Display the predicted and actual labels\n",
    "print(f\"Predicted label: {predicted_label[0]}\")\n",
    "print(f\"Actual label: {actual_label}\")"
   ]
  },
  {
   "cell_type": "code",
   "execution_count": null,
   "metadata": {},
   "outputs": [],
   "source": []
  },
  {
   "cell_type": "code",
   "execution_count": null,
   "metadata": {},
   "outputs": [],
   "source": []
  }
 ],
 "metadata": {
  "kernelspec": {
   "display_name": "Python 3",
   "language": "python",
   "name": "python3"
  },
  "language_info": {
   "codemirror_mode": {
    "name": "ipython",
    "version": 3
   },
   "file_extension": ".py",
   "mimetype": "text/x-python",
   "name": "python",
   "nbconvert_exporter": "python",
   "pygments_lexer": "ipython3",
   "version": "3.11.0"
  }
 },
 "nbformat": 4,
 "nbformat_minor": 2
}
